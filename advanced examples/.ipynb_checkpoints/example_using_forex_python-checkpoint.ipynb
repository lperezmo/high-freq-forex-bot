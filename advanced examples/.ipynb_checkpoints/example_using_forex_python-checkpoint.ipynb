{
 "cells": [
  {
   "cell_type": "code",
   "execution_count": 4,
   "metadata": {},
   "outputs": [],
   "source": [
    "from forex_python.converter import CurrencyRates\n",
    "import numpy as np\n",
    "import pandas as pd\n",
    "import scipy\n",
    "import math\n",
    "import random\n",
    "import copy\n",
    "import gzip, pickle, pickletools"
   ]
  },
  {
   "cell_type": "markdown",
   "metadata": {},
   "source": [
    "# Skip to the bottom to run with previously-generated data.\n",
    "\n",
    "* Uncomment and run cells to generate new data"
   ]
  },
  {
   "cell_type": "markdown",
   "metadata": {},
   "source": [
    "# Example using forex-python to construct a current, real currency exchange matrix"
   ]
  },
  {
   "cell_type": "code",
   "execution_count": 2,
   "metadata": {},
   "outputs": [
    {
     "name": "stdout",
     "output_type": "stream",
     "text": [
      "Wall time: 0 ns\n"
     ]
    }
   ],
   "source": [
    "%%time\n",
    "####################################################################\n",
    "# NOTE: SLOWER METHOD GETS MORE ACCURATE VALUES\n",
    "# Generate a matrix with all the supported types of currency in\n",
    "# forex-python module.\n",
    "####################################################################\n",
    "\n",
    "# # Obtain currency rates from forex-python module\n",
    "# c = CurrencyRates()\n",
    "\n",
    "# # Supported types of currency\n",
    "# test_rates = c.get_rates(base_cur='USD')\n",
    "# supported_types_of_currency = tuple(test_rates.keys())\n",
    "# all_rates = c.get_rates(base_cur = 'EUR')\n",
    "\n",
    "# # An empty array to hold the exchange data\n",
    "# A = np.empty((33,33))\n",
    "\n",
    "\n",
    "# # Save collected data into emtpy array\n",
    "# for counter, item in enumerate(supported_types_of_currency):\n",
    "#     all_rates = c.get_rates(base_cur=item)\n",
    "# #     if item == 'EUR':\n",
    "# #         print(item)\n",
    "#     for counter_, item_ in enumerate(all_rates.keys()):\n",
    "#         if counter == counter_:\n",
    "#             A[counter, counter_] = 1\n",
    "#         else:\n",
    "#             A[counter, counter_] = all_rates.get(item_)\n",
    "# #             if item_ == 'AUD':\n",
    "# #                 print(item_, A[counter, counter_])            \n",
    "            \n",
    "# #             print(counter, counter_, item_)\n",
    "            \n",
    "# #     print(counter, counter_, item_)\n",
    "            \n",
    "            \n",
    "# # Pretty print matrix a\n",
    "# with np.printoptions(precision=4, suppress=True):\n",
    "#     print(A)\n",
    "\n",
    "####################################################################"
   ]
  },
  {
   "cell_type": "markdown",
   "metadata": {},
   "source": [
    "### Check if matrix is unbalanced"
   ]
  },
  {
   "cell_type": "code",
   "execution_count": 3,
   "metadata": {},
   "outputs": [],
   "source": [
    "# # The matrix is balanced if A^2 - nA = 0\n",
    "# M = np.multiply(A,A) - A.shape[0] * A\n",
    "\n",
    "# # Check if matrix is balanced or unbalanced\n",
    "# if np.array_equal(M, np.zeros(shape = M.shape)):\n",
    "#     print(f\"\\nThe given matrix is a balanced matrix.\\n\")\n",
    "# elif not np.array_equal(M, np.zeros(shape = M.shape)):\n",
    "#     print(f\"\\nThe given matrix is unbalanced.\\n\")\n",
    "# else:\n",
    "#     print(f\"\\nUnknown error encountered.\\n\")\n",
    "    \n",
    "# # Pretty print M matrix\n",
    "# with np.printoptions(precision=0, suppress=True):\n",
    "#     print(M)"
   ]
  },
  {
   "cell_type": "markdown",
   "metadata": {},
   "source": [
    "### Compute \"luis\" matrix"
   ]
  },
  {
   "cell_type": "code",
   "execution_count": 4,
   "metadata": {},
   "outputs": [],
   "source": [
    "# # Calculate the \"luis\" matrix \n",
    "# luis = np.multiply(A, np.transpose(A))\n",
    "# if np.array_equal(luis, np.zeros(shape=luis.shape)):\n",
    "#     print(f\"\\nThere are no opportunities for arbitrage in this matrix.\\n\")\n",
    "# else:\n",
    "#     print(f\"\\nArbitrage IS a possibility in this matrix. Lucky you!\\n\")\n",
    "    \n",
    "# # Pretty print luis matrix\n",
    "# with np.printoptions(precision=8, suppress=True):\n",
    "#     print(luis)"
   ]
  },
  {
   "cell_type": "markdown",
   "metadata": {},
   "source": [
    "### Using Pandas to check that the matrix looks like it's supposed to "
   ]
  },
  {
   "cell_type": "code",
   "execution_count": 5,
   "metadata": {},
   "outputs": [],
   "source": [
    "# luis[12,30]\n",
    "# pd.DataFrame(luis)"
   ]
  },
  {
   "cell_type": "markdown",
   "metadata": {},
   "source": [
    "### Slow but more accurate alternative to generate matrix A"
   ]
  },
  {
   "cell_type": "code",
   "execution_count": 6,
   "metadata": {},
   "outputs": [
    {
     "name": "stdout",
     "output_type": "stream",
     "text": [
      "Wall time: 0 ns\n"
     ]
    }
   ],
   "source": [
    "%%time\n",
    "####################################################################\n",
    "# Generate a matrix with all the supported types of currency in\n",
    "# forex-python module.\n",
    "####################################################################\n",
    "\n",
    "# # Empty matrix\n",
    "# A = np.zeros((33,33))\n",
    "\n",
    "# # Fill matrix with values\n",
    "# for counter, item in enumerate(A):\n",
    "# #     print(counter)\n",
    "#     for counter_, item_ in enumerate(item):\n",
    "#         # Choose one for those that are the same\n",
    "#         if counter == counter_:\n",
    "#             A[counter, counter_] = 1\n",
    "#         else:\n",
    "#             A[counter, counter_] = c.get_rate(base_cur=supported_types_of_currency[counter],\n",
    "#                                                 dest_cur=supported_types_of_currency[counter_])\n"
   ]
  },
  {
   "cell_type": "code",
   "execution_count": 7,
   "metadata": {},
   "outputs": [],
   "source": [
    "####################################################################\n",
    "# This saves generated matrix to a pickle file for faster \n",
    "# processing while loading and troubleshooting\n",
    "####################################################################\n",
    "\n",
    "# # Saving the matrix to a pickle file (for testing only)\n",
    "# filepath = \"data/test_matrix_optimized.pkl\"\n",
    "# with gzip.open(filepath, \"wb\") as f:\n",
    "#     pickled = pickle.dumps(A)\n",
    "#     optimized_pickle = pickletools.optimize(pickled)\n",
    "#     f.write(optimized_pickle)\n",
    "    \n",
    "####################################################################"
   ]
  },
  {
   "cell_type": "markdown",
   "metadata": {},
   "source": [
    "# =============================\n",
    "# Start here - load previously generated data\n",
    "# ============================="
   ]
  },
  {
   "cell_type": "code",
   "execution_count": 54,
   "metadata": {},
   "outputs": [],
   "source": [
    "supported_types_of_currency = ['GBP', 'HKD', 'IDR', 'ILS', 'DKK', 'INR', \n",
    "                               'CHF', 'MXN', 'CZK', 'SGD', 'THB', 'HRK', \n",
    "                               'EUR', 'MYR', 'NOK', 'CNY', 'BGN', 'PHP', \n",
    "                               'PLN', 'ZAR', 'CAD', 'ISK', 'BRL', 'RON', \n",
    "                               'NZD', 'TRY', 'JPY', 'RUB', 'KRW', 'USD', \n",
    "                               'AUD', 'HUF', 'SEK']"
   ]
  },
  {
   "cell_type": "code",
   "execution_count": 55,
   "metadata": {},
   "outputs": [],
   "source": [
    "####################################################################\n",
    "# This loads the slowly simulated data to a variable A \n",
    "# for faster processing while troubleshooting\n",
    "####################################################################\n",
    "\n",
    "# Loading currency exchange matrix from a pickle file (for testing only)\n",
    "filepath = \"data/test_matrix_optimized.pkl\"\n",
    "with gzip.open(filepath, 'rb') as f:\n",
    "    p = pickle.Unpickler(f)\n",
    "    A = p.load()\n",
    "    \n",
    "####################################################################"
   ]
  },
  {
   "cell_type": "code",
   "execution_count": 56,
   "metadata": {},
   "outputs": [
    {
     "name": "stdout",
     "output_type": "stream",
     "text": [
      "\n",
      "The given matrix is unbalanced.\n",
      "\n",
      "[[-3.e+01 -2.e+02  4.e+08 ... -6.e+01  1.e+05 -2.e+02]\n",
      " [-3.e+00 -3.e+01  4.e+06 ... -6.e+00  2.e+02 -4.e+01]\n",
      " [-2.e-03 -2.e-02 -3.e+01 ... -3.e-03 -7.e-01 -2.e-02]\n",
      " ...\n",
      " [-2.e+01 -2.e+02  1.e+08 ... -3.e+01  4.e+04 -2.e+02]\n",
      " [-8.e-02 -8.e-01  8.e+02 ... -1.e-01 -3.e+01 -1.e+00]\n",
      " [-3.e+00 -3.e+01  3.e+06 ... -5.e+00  6.e+01 -3.e+01]]\n"
     ]
    }
   ],
   "source": [
    "# The matrix is balanced if A^2 - nA = 0\n",
    "M = np.multiply(A,A) - A.shape[0] * A\n",
    "\n",
    "# Check if matrix is balanced or unbalanced\n",
    "if np.array_equal(M, np.zeros(shape = M.shape)):\n",
    "    print(f\"\\nThe given matrix is a balanced matrix.\\n\")\n",
    "elif not np.array_equal(M, np.zeros(shape = M.shape)):\n",
    "    print(f\"\\nThe given matrix is unbalanced.\\n\")\n",
    "else:\n",
    "    print(f\"\\nUnknown error encountered.\\n\")\n",
    "    \n",
    "# Pretty print M matrix\n",
    "with np.printoptions(precision=0, suppress=True):\n",
    "    print(M)"
   ]
  },
  {
   "cell_type": "code",
   "execution_count": 57,
   "metadata": {},
   "outputs": [
    {
     "name": "stdout",
     "output_type": "stream",
     "text": [
      "\n",
      "Arbitrage IS a possibility in this matrix. Lucky you!\n",
      "\n",
      "[[1.         1.         0.99999979 ... 1.         1.         1.        ]\n",
      " [1.         1.         0.99999995 ... 1.         1.         1.        ]\n",
      " [0.99999979 0.99999995 1.         ... 0.99999972 1.         1.00000003]\n",
      " ...\n",
      " [1.         1.         0.99999972 ... 1.         1.00000001 1.        ]\n",
      " [1.         1.         1.         ... 1.00000001 1.         1.        ]\n",
      " [1.         1.         1.00000003 ... 1.         1.         1.        ]]\n"
     ]
    }
   ],
   "source": [
    "# Calculate the \"luis\" matrix \n",
    "luis = np.multiply(A, np.transpose(A))\n",
    "if np.array_equal(luis, np.zeros(shape=luis.shape)):\n",
    "    print(f\"\\nThere are no opportunities for arbitrage in this matrix.\\n\")\n",
    "else:\n",
    "    print(f\"\\nArbitrage IS a possibility in this matrix. Lucky you!\\n\")\n",
    "    \n",
    "# Pretty print luis matrix\n",
    "with np.printoptions(precision=8, suppress=True):\n",
    "    print(luis)"
   ]
  },
  {
   "cell_type": "markdown",
   "metadata": {},
   "source": [
    "### Find the most profitable path"
   ]
  },
  {
   "cell_type": "code",
   "execution_count": 58,
   "metadata": {},
   "outputs": [
    {
     "name": "stdout",
     "output_type": "stream",
     "text": [
      "[1.00000025 1.00000025] (array([ 2, 24], dtype=int64), array([24,  2], dtype=int64))\n",
      "\n",
      "Most profitable bounce path is back and forth between IDR and NZD.\n",
      "\n"
     ]
    }
   ],
   "source": [
    "# Return the location where the maximum value of \"luis\" matrix occurs\n",
    "result = np.where(luis == np.max(luis))\n",
    "print(luis[result], result)\n",
    "print(f\"\\nMost profitable bounce path is back and forth between {supported_types_of_currency[result[0][0]]} and {supported_types_of_currency[result[0][1]]}.\\n\")"
   ]
  },
  {
   "cell_type": "code",
   "execution_count": 59,
   "metadata": {},
   "outputs": [
    {
     "name": "stdout",
     "output_type": "stream",
     "text": [
      "Max number 0 is 1.0000002497908194\n",
      "Max number 1 is 1.000000203786168\n",
      "Max number 2 is 1.000000107314\n",
      "Most profitable path is back and forth between IDR and NZD.\n",
      "Most profitable path is back and forth between IDR and ILS.\n",
      "Most profitable path is back and forth between IDR and EUR.\n",
      "Saved names of currencies are: [('IDR', 'NZD'), ('IDR', 'ILS'), ('IDR', 'EUR')]\n"
     ]
    }
   ],
   "source": [
    "###########################################################################\n",
    "# Find the most profitable transaction paths in the \"Luis\" matrix\n",
    "# and then saves the pairs of most profitable transaction paths\n",
    "# in a list of tuples \n",
    "###########################################################################\n",
    "\n",
    "# Find the top three top max values by copying whole luis matrix\n",
    "# and sequentially erasing the top value to find the next top value\n",
    "luis_ = copy.deepcopy(luis)\n",
    "\n",
    "max_values = np.empty(shape=(3,1))\n",
    "max_locations = []\n",
    "for i in range(3):\n",
    "    # Find max and its index on matrix\n",
    "    max_found = np.max(luis_)\n",
    "    locations = np.where(luis_ == max_found)\n",
    "    \n",
    "    # Print maximums found\n",
    "    print(f\"Max number {i} is {max_found}\")\n",
    "    \n",
    "    # Set max locations ot zero to find\n",
    "    # the next maximum\n",
    "    for v in locations:\n",
    "        luis_[v] = 0\n",
    "        \n",
    "    # Collected the values maximum & one index\n",
    "    max_values[i] = max_found\n",
    "    max_locations.append(tuple(x for x in locations))\n",
    "\n",
    "# Print most profitable transaction paths & collect names currencies. \n",
    "max_currency_names = []\n",
    "for i in max_values:\n",
    "    result = np.where(luis == i)\n",
    "    print(f\"Most profitable path is back and forth between \"\n",
    "          f\"{supported_types_of_currency[result[0][0]]} \"\n",
    "          f\"and {supported_types_of_currency[result[0][1]]}.\")\n",
    "    tmp_tuple = tuple([supported_types_of_currency[result[0][0]],\n",
    "                       supported_types_of_currency[result[0][1]]])\n",
    "    max_currency_names.append(tmp_tuple)\n",
    "\n",
    "print(f\"Saved names of currencies are: {max_currency_names}\")\n",
    "\n",
    "###########################################################################"
   ]
  },
  {
   "cell_type": "markdown",
   "metadata": {},
   "source": [
    "### Simulate a currency exchange with random path"
   ]
  },
  {
   "cell_type": "code",
   "execution_count": 60,
   "metadata": {},
   "outputs": [
    {
     "name": "stdout",
     "output_type": "stream",
     "text": [
      "Summary:\n",
      "Initial investment of:                  $100\n",
      "Total number of iterations:             1000\n",
      "Percentage of total money lost to fees: 0%\n",
      "Money after trade was concluded:        $99.99999604988868\n",
      "Lost to fees:                           $0\n",
      "Final profit:                           $-3.9501113207052185e-06\n"
     ]
    }
   ],
   "source": [
    "#####################################################################################\n",
    "# Simulate currency exchange with random path\n",
    "#####################################################################################\n",
    "\n",
    "# Parameters\n",
    "investment = 100\n",
    "t = 1000\n",
    "fees = 1\n",
    "\n",
    "# Money after the exchange using a random location\n",
    "# USD -> EUR -> (CAD -> EUR)^t -> CAD -> USD\n",
    "usd_ = supported_types_of_currency.index('USD')\n",
    "eur_ = supported_types_of_currency.index('EUR')         # These two are the \n",
    "cad_ = supported_types_of_currency.index('CAD')         # most profitable transaction\n",
    "\n",
    "# Exchange rates\n",
    "usd_to_eur = A[usd_, eur_]\n",
    "eur_to_usd = A[eur_, usd_]\n",
    "eur_to_cad = A[eur_, cad_]\n",
    "cad_to_eur = A[cad_, eur_]\n",
    "\n",
    "# Calculate money after trade and the profit obtained\n",
    "#                [in. conversion] [bounce between cad and eur] [convert back to usd]\n",
    "result = investment * usd_to_eur * (eur_to_cad*cad_to_eur)**t * eur_to_usd * fees**t\n",
    "profit = result - investment\n",
    "\n",
    "print(\"Summary:\\n\"\n",
    "      f\"Initial investment of:                  ${investment}\\n\"\n",
    "      f\"Total number of iterations:             {t}\\n\"\n",
    "      f\"Percentage of total money lost to fees: {np.round((1-fees)*100)}%\\n\"\n",
    "      f\"Money after trade was concluded:        ${result}\\n\"\n",
    "      f\"Lost to fees:                           ${investment*(1-fees)}\\n\"\n",
    "      f\"Final profit:                           ${profit}\")\n",
    "\n",
    "#####################################################################################"
   ]
  },
  {
   "cell_type": "markdown",
   "metadata": {},
   "source": [
    "# Simulate a currency exchange with \"Luis\" path"
   ]
  },
  {
   "cell_type": "code",
   "execution_count": 61,
   "metadata": {},
   "outputs": [
    {
     "name": "stdout",
     "output_type": "stream",
     "text": [
      "Summary:\n",
      "Initial investment of:                  $1000\n",
      "Total number of iterations:             300000\n",
      "Percentage of total money lost to fees: 0%\n",
      "Money after trade was concluded:        $1077.8167208151979\n",
      "Lost to fees:                           $0\n",
      "Final profit:                           $77.81672081519787\n"
     ]
    }
   ],
   "source": [
    "#####################################################################################\n",
    "# Simulate currency exchange with \"Luis\" path\n",
    "#####################################################################################\n",
    "\n",
    "# Parameters\n",
    "investment = 1000\n",
    "t = 300000\n",
    "fees = 1\n",
    "\n",
    "# Money after the exchange using luis path\n",
    "one_ = supported_types_of_currency.index('ILS')\n",
    "two_ = supported_types_of_currency.index('IDR')           # These two are the \n",
    "three_ = supported_types_of_currency.index('NZD')         # most profitable transaction\n",
    "\n",
    "# Exchange rates\n",
    "one_to_two = A[one_, two_]\n",
    "two_to_one = A[two_, one_]\n",
    "two_to_three = A[two_, three_]\n",
    "three_to_two = A[three_, two_]\n",
    "\n",
    "# Calculate money after trade and the profit obtained\n",
    "#                [in. conversion] [bounce between cad and eur] [convert back to usd]\n",
    "result = investment * one_to_two * (two_to_three*three_to_two)**t * two_to_one * fees\n",
    "profit = result - investment\n",
    "\n",
    "## VERIFY MOST REPEATED TRANSACTION IS MOST PROFITABLE TRANSACTION\n",
    "assert two_to_three*three_to_two == np.max(luis)\n",
    "\n",
    "print(\"Summary:\\n\"\n",
    "      f\"Initial investment of:                  ${investment}\\n\"\n",
    "      f\"Total number of iterations:             {t}\\n\"\n",
    "      f\"Percentage of total money lost to fees: {np.round((1-fees)*100)}%\\n\"\n",
    "      f\"Money after trade was concluded:        ${result}\\n\"\n",
    "      f\"Lost to fees:                           ${investment*(1-fees)}\\n\"\n",
    "      f\"Final profit:                           ${profit}\")\n",
    "\n",
    "#####################################################################################"
   ]
  },
  {
   "cell_type": "code",
   "execution_count": 62,
   "metadata": {},
   "outputs": [
    {
     "name": "stdout",
     "output_type": "stream",
     "text": [
      "1.0000002497908194 1.0000002497908194\n"
     ]
    }
   ],
   "source": [
    "# Double checking that assert statement is actually working\n",
    "print(np.max(luis), two_to_three*three_to_two)"
   ]
  },
  {
   "cell_type": "markdown",
   "metadata": {},
   "source": [
    "## A possibly even more profitable path"
   ]
  },
  {
   "cell_type": "code",
   "execution_count": 63,
   "metadata": {},
   "outputs": [
    {
     "name": "stdout",
     "output_type": "stream",
     "text": [
      "dict_keys(['GBP', 'HKD', 'IDR', 'ILS', 'DKK', 'INR', 'CHF', 'MXN', 'CZK', 'SGD', 'THB', 'HRK', 'EUR', 'MYR', 'NOK', 'CNY', 'BGN', 'PHP', 'PLN', 'ZAR', 'CAD', 'ISK', 'BRL', 'RON', 'NZD', 'TRY', 'JPY', 'RUB', 'KRW', 'USD', 'AUD', 'HUF', 'SEK']) dict_values([0, 1, 2, 3, 4, 5, 6, 7, 8, 9, 10, 11, 12, 13, 14, 15, 16, 17, 18, 19, 20, 21, 22, 23, 24, 25, 26, 27, 28, 29, 30, 31, 32])\n"
     ]
    }
   ],
   "source": [
    "supported_types_of_currency_dict = dict(zip(supported_types_of_currency, range(len(supported_types_of_currency))))\n",
    "print(supported_types_of_currency_dict.keys(), supported_types_of_currency_dict.values())"
   ]
  },
  {
   "cell_type": "code",
   "execution_count": 64,
   "metadata": {},
   "outputs": [],
   "source": [
    "# Starting with dollars, find the values along the A matrix that have the largest\n",
    "# coefficient going forward (i.e. a 1.02 for USD --> EUR)\n",
    "\n",
    "# All values along \"USD\"\n",
    "USD = A[supported_types_of_currency_dict.get('USD'),:]\n",
    "\n",
    "# Values along the resulting currency with largest value above\n"
   ]
  },
  {
   "cell_type": "code",
   "execution_count": 65,
   "metadata": {},
   "outputs": [
    {
     "data": {
      "text/plain": [
       "array([7.54306705e-01, 7.75038000e+00, 1.47385661e+04, 3.36716771e+00,\n",
       "       6.28297585e+00, 7.31954062e+01, 9.11416990e-01, 2.15567472e+01,\n",
       "       2.23230873e+01, 1.36446546e+00, 3.13899679e+01, 6.36632326e+00,\n",
       "       8.44451951e-01, 4.14946800e+00, 8.93159939e+00, 6.84056747e+00,\n",
       "       1.65157913e+00, 4.85813207e+01, 3.75899341e+00, 1.65747340e+01,\n",
       "       1.30957609e+00, 1.39081236e+02, 5.30104712e+00, 4.09795643e+00,\n",
       "       1.48961324e+00, 7.44933288e+00, 1.06223611e+02, 7.51334234e+01,\n",
       "       1.18989191e+03, 1.00000000e+00, 1.37569667e+00, 3.03664921e+02,\n",
       "       8.75595339e+00])"
      ]
     },
     "execution_count": 65,
     "metadata": {},
     "output_type": "execute_result"
    }
   ],
   "source": [
    "USD"
   ]
  },
  {
   "cell_type": "code",
   "execution_count": null,
   "metadata": {},
   "outputs": [],
   "source": []
  }
 ],
 "metadata": {
  "kernelspec": {
   "display_name": "Currency Exchange Kernel",
   "language": "python",
   "name": "currency_exchange"
  },
  "language_info": {
   "codemirror_mode": {
    "name": "ipython",
    "version": 3
   },
   "file_extension": ".py",
   "mimetype": "text/x-python",
   "name": "python",
   "nbconvert_exporter": "python",
   "pygments_lexer": "ipython3",
   "version": "3.6.10"
  },
  "toc-autonumbering": true
 },
 "nbformat": 4,
 "nbformat_minor": 4
}
