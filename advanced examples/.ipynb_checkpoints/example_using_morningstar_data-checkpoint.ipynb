{
 "cells": [
  {
   "cell_type": "code",
   "execution_count": 1,
   "metadata": {},
   "outputs": [],
   "source": [
    "from forex_python.converter import CurrencyRates\n",
    "import numpy as np\n",
    "import pandas as pd\n",
    "import scipy\n",
    "import math\n",
    "import random\n",
    "import copy\n",
    "import gzip, pickle, pickletools"
   ]
  },
  {
   "cell_type": "code",
   "execution_count": 2,
   "metadata": {},
   "outputs": [],
   "source": [
    "import cv2\n",
    "import pytesseract\n",
    "import time\n",
    "from webbot import Browser \n",
    "import pyautogui\n",
    "import tkinter as tk\n",
    "pytesseract.pytesseract.tesseract_cmd = r'C:\\\\Program Files\\\\Tesseract-OCR\\\\tesseract.exe'"
   ]
  },
  {
   "cell_type": "code",
   "execution_count": 3,
   "metadata": {},
   "outputs": [],
   "source": [
    "# References\n",
    "morningstar_tuple = tuple(['GBP','USD','EUR','JPY','CHF','AUD','CAD'])\n",
    "morningstar_currencies = {'GBP' :1,'USD' :2,'EUR' :3,'JPY' :4,'CHF' :5,'AUD' :6,'CAD' :7}"
   ]
  },
  {
   "cell_type": "markdown",
   "metadata": {},
   "source": [
    "# Example using morningstar data"
   ]
  },
  {
   "cell_type": "code",
   "execution_count": 4,
   "metadata": {},
   "outputs": [
    {
     "name": "stdout",
     "output_type": "stream",
     "text": [
      "\n",
      "The given matrix is unbalanced.\n",
      "\n",
      "\n",
      "Arbitrage IS a possibility in this matrix. Lucky you!\n",
      "\n",
      "[[1.       0.99963  1.00023  0.999954 1.022791 1.000384 0.999312 1.001   ]\n",
      " [0.99963  1.       1.00005  0.999951 1.00737  0.997506 1.000664 0.999498]\n",
      " [1.00023  1.00005  1.       0.999423 1.01184  1.00031  0.99962  1.000125]\n",
      " [0.999954 0.999951 0.999423 1.       1.000818 0.997576 0.999231 0.99997 ]\n",
      " [1.022791 1.00737  1.01184  1.000818 1.       0.999637 1.00536  0.963648]\n",
      " [1.000384 0.997506 1.00031  0.997576 0.999637 1.       0.99889  1.00014 ]\n",
      " [0.999312 1.000664 0.99962  0.999231 1.00536  0.99889  1.       1.000237]\n",
      " [1.001    0.999498 1.000125 0.99997  0.963648 1.00014  1.000237 1.      ]]\n"
     ]
    }
   ],
   "source": [
    "#####################################################################################\n",
    "# Load sample data taken directly from morningstar currency exchange data, then\n",
    "# 1) Check if matrix is balances\n",
    "# 2) Check if arbitrage is possible\n",
    "# 3) Print matrix M and Luis matrices\n",
    "#####################################################################################\n",
    "\n",
    "A = np.matrix(((1, 1.305, 1.155, 1.314, 146.113, 8.624, 1.744, 1.82),\n",
    "                        (0.766, 1, 0.885, 1.007, 111.93, 6.606, 1.336, 1.394),\n",
    "                        (0.866, 1.13, 1, 1.137, 126.48, 7.465, 1.51, 1.575),\n",
    "                        (0.761, 0.993, 0.879, 1, 111.202, 6.563, 1.327, 1.385),\n",
    "                        (0.007, 0.009, 0.008, 0.009, 1, 0.059, 0.012, 0.012),\n",
    "                        (0.116, 0.151, 0.134, 0.152, 16.943, 1, 0.202, 0.211),\n",
    "                        (0.573, 0.749, 0.662, 0.753, 83.78, 4.945, 1, 1.043),\n",
    "                        (0.55, 0.717, 0.635, 0.722, 80.304, 4.74, 0.959, 1)))\n",
    "\n",
    "\n",
    "# The matrix is balanced if A^2 - nA = 0\n",
    "M = np.multiply(A,A) - A.shape[0] * A\n",
    "\n",
    "# Check if matrix is balanced or unbalanced\n",
    "if np.array_equal(M, np.zeros(shape = M.shape)):\n",
    "    print(f\"\\nThe given matrix is a balanced matrix.\\n\")\n",
    "elif not np.array_equal(M, np.zeros(shape = M.shape)):\n",
    "    print(f\"\\nThe given matrix is unbalanced.\\n\")\n",
    "else:\n",
    "    print(f\"\\nUnknown error encountered.\\n\")\n",
    "    \n",
    "# # Pretty print M matrix\n",
    "# with np.printoptions(precision=0, suppress=True):\n",
    "#     print(M)\n",
    "\n",
    "# Calculate the \"luis\" matrix \n",
    "luis = np.multiply(A, np.transpose(A))\n",
    "if np.array_equal(luis, np.zeros(shape=luis.shape)):\n",
    "    print(f\"\\nThere are no opportunities for arbitrage in this matrix.\\n\")\n",
    "else:\n",
    "    print(f\"\\nArbitrage IS a possibility in this matrix. Lucky you!\\n\")\n",
    "    \n",
    "# Pretty print luis matrix\n",
    "with np.printoptions(precision=6, suppress=True):\n",
    "    print(luis)\n",
    "    \n",
    "#####################################################################################"
   ]
  },
  {
   "cell_type": "markdown",
   "metadata": {},
   "source": [
    "## Find most profitable path"
   ]
  },
  {
   "cell_type": "code",
   "execution_count": 5,
   "metadata": {},
   "outputs": [
    {
     "name": "stdout",
     "output_type": "stream",
     "text": [
      "Max number 0 is 1.022791\n",
      "Max number 1 is 1.01184\n",
      "Max number 2 is 1.0073699999999999\n",
      "Most profitable path is back and forth between GBP and CHF.\n",
      "Most profitable path is back and forth between EUR and CHF.\n",
      "Most profitable path is back and forth between USD and CHF.\n",
      "Saved names of currencies are: [('GBP', 'CHF'), ('EUR', 'CHF'), ('USD', 'CHF')]\n"
     ]
    }
   ],
   "source": [
    "###########################################################################\n",
    "# Find the most profitable transaction paths in the \"Luis\" matrix\n",
    "# and then saves the pairs of most profitable transaction paths\n",
    "# in a list of tuples \n",
    "###########################################################################\n",
    "\n",
    "# Find the top three top max values by copying whole luis matrix\n",
    "# and sequentially erasing the top value to find the next top value\n",
    "luis_ = copy.deepcopy(luis)\n",
    "\n",
    "max_values = np.empty(shape=(3,1))\n",
    "max_locations = []\n",
    "for i in range(3):\n",
    "    # Find max and its index on matrix\n",
    "    max_found = np.max(luis_)\n",
    "    locations = np.where(luis_ == max_found)\n",
    "    \n",
    "    # Print maximums found\n",
    "    print(f\"Max number {i} is {max_found}\")\n",
    "    \n",
    "    # Set max locations ot zero to find\n",
    "    # the next maximum\n",
    "    for v in locations:\n",
    "        luis_[v] = 0\n",
    "        \n",
    "    # Collected the values maximum & one index\n",
    "    max_values[i] = max_found\n",
    "    max_locations.append(tuple(x for x in locations))\n",
    "\n",
    "# Print most profitable transaction paths & collect names currencies. \n",
    "max_currency_names = []\n",
    "for i in max_values:\n",
    "    result = np.where(luis == i)\n",
    "#     print(result)\n",
    "    print(f\"Most profitable path is back and forth between \"\n",
    "          f\"{morningstar_tuple[result[0][0]]}\"\n",
    "          f\" and {morningstar_tuple[result[0][1]]}.\")\n",
    "    tmp_tuple = tuple([morningstar_tuple[result[0][0]],\n",
    "                       morningstar_tuple[result[0][1]]])\n",
    "    max_currency_names.append(tmp_tuple)\n",
    "\n",
    "print(f\"Saved names of currencies are: {max_currency_names}\")\n",
    "\n",
    "###########################################################################"
   ]
  },
  {
   "cell_type": "markdown",
   "metadata": {},
   "source": [
    "### Exchange with \"Luis\" path"
   ]
  },
  {
   "cell_type": "code",
   "execution_count": 6,
   "metadata": {},
   "outputs": [
    {
     "name": "stdout",
     "output_type": "stream",
     "text": [
      "Summary:\n",
      "Initial investment of:                  $100\n",
      "Total number of iterations:             100\n",
      "Percentage of total money lost to fees: 0%\n",
      "Money after trade was concluded:        $951.7635382164812\n",
      "Lost to fees:                           $0\n",
      "Final profit:                           $851.7635382164812\n"
     ]
    }
   ],
   "source": [
    "# Parameters\n",
    "investment = 100\n",
    "t = 100\n",
    "fees = 1\n",
    "\n",
    "# Money after the exchange using luis path\n",
    "one_ = morningstar_currencies.get('USD') - 1\n",
    "two_ = morningstar_currencies.get('GBP') - 1           # These two are the \n",
    "three_ = morningstar_currencies.get('CHF') -1          # most profitable transaction\n",
    "\n",
    "# Exchange rates\n",
    "one_to_two = A[one_, two_]\n",
    "two_to_one = A[two_, one_]\n",
    "two_to_three = A[two_, three_]\n",
    "three_to_two = A[three_, two_]\n",
    "\n",
    "# Calculate money after trade and the profit obtained\n",
    "#                [in. conversion] [bounce between cad and eur] [convert back to usd]\n",
    "result = investment * one_to_two * (two_to_three*three_to_two)**t * two_to_one * fees\n",
    "profit = result - investment\n",
    "\n",
    "## VERIFY MOST REPEATED TRANSACTION IS MOST PROFITABLE TRANSACTION\n",
    "assert two_to_three*three_to_two == np.max(luis)\n",
    "\n",
    "print(\"Summary:\\n\"\n",
    "      f\"Initial investment of:                  ${investment}\\n\"\n",
    "      f\"Total number of iterations:             {t}\\n\"\n",
    "      f\"Percentage of total money lost to fees: {np.round((1-fees)*100)}%\\n\"\n",
    "      f\"Money after trade was concluded:        ${result}\\n\"\n",
    "      f\"Lost to fees:                           ${investment*(1-fees)}\\n\"\n",
    "      f\"Final profit:                           ${profit}\")"
   ]
  },
  {
   "cell_type": "markdown",
   "metadata": {},
   "source": [
    "> Note: there is basically no fees for currency exchange among major currencies in QuantStack\n",
    "While the program is mainly geared towards people who actually want to buy currencies\n",
    "strategically and hold them just for long enough for them to turn a profit, the objective\n",
    "of this project is to push as many requests in as short an amount of time as possible.\n",
    "\n",
    "\n",
    "\n",
    "> For this trading strategy, higher volume is synonymous with higher profits. As long as\n",
    "there is at least a profit of $ \\$ 0.01 $ dollars per transaction, this method will yield a \n",
    "profit $ \\geq \\$ 27$ for $ \\geq \\$ 1000$ iterations of the most profitable path."
   ]
  },
  {
   "cell_type": "markdown",
   "metadata": {},
   "source": [
    "Let's run an example to show how volume is critical for the success of this trading strategy.\n",
    "\n",
    "* As long as `t = 1` yiels a profit, this will work. Here, profit should be $ \\$ 0.016 $\n",
    "\n",
    "* Now increase `t` to `1000`\n"
   ]
  },
  {
   "cell_type": "markdown",
   "metadata": {},
   "source": [
    "# Using morningstar high-quality, frequently updated currency exchange data\n",
    "\n",
    "1. This pulls the currency exchange matrix directly from the morningstar page. No more bothersome API's to get current rates, this is it."
   ]
  },
  {
   "cell_type": "markdown",
   "metadata": {},
   "source": [
    "Current problem: I haven't been able to extract the underlying numerical data from the IFrame object. It does display and update perfectly, so technically I could just copy and paste it, but it wouldn't be automatic"
   ]
  },
  {
   "cell_type": "code",
   "execution_count": 7,
   "metadata": {},
   "outputs": [
    {
     "data": {
      "text/html": [
       "<div id=\"_usCurrencyWidget\">\n",
       "\n",
       "    <style type=\"text/css\">\n",
       "        #forexCurrencyWidget iframe {\n",
       "            left: 0px;\n",
       "            margin: 0;\n",
       "            padding: 0;\n",
       "            width: 100%;\n",
       "            border: none;\n",
       "            padding-top:5px;\n",
       "        }\n",
       "    </style>\n",
       "\n",
       "\n",
       "    <div id=\"forexCurrencyWidget\">\n",
       "        <iframe id=\"exchangeFrame\" src=\"//quotespeed.morningstar.com/apis/api.jsp?instid=EURTL&amp;module=forex&amp;submodule=forexcrt&amp;width=500&amp;height=300&amp;currencyList=GBP,USD,EUR,JPY,CHF,AUD,CAD&amp;showHead=0&amp;decimal=4\" scrolling=\"no\" style=\"float:left;background-color:#FFF;border-left:none; border-right:none; border-bottom:none; padding-left:0px; margin:0px\" height=\"300px\" frameborder=\"0\"></iframe>\n",
       "    </div>\n",
       "    <script type=\"text/javascript\">\n",
       "       \n",
       "        $(document).ready(function () {\n",
       "            let hostName = window.location.hostname;\n",
       "            let envVal = 'stage';\n",
       "            let quotespeedUrlE = 'markets-uat';\n",
       "            if (hostName && ((hostName.indexOf(\"localhost\") > -1) || (hostName.indexOf(\"eurtqa\") > -1))) {\n",
       "                envVal = 'stage';\n",
       "                quotespeedUrlE = 'markets-uat';\n",
       "            }\n",
       "            else {\n",
       "                envVal = 'production';\n",
       "                quotespeedUrlE = 'quotespeed';\n",
       "            }\n",
       "\n",
       "            let urlExchange = '//' + quotespeedUrlE + '.morningstar.com/apis/api.jsp?' +\n",
       "                'instid=EURTL&module=forex&submodule=forexcrt&width=500&height=300&' +\n",
       "            'currencyList=GBP,USD,EUR,JPY,CHF,AUD,CAD' +\n",
       "                '&showHead=0&decimal=4';\n",
       "\n",
       "            document.getElementById(\"exchangeFrame\").src = urlExchange; \n",
       "\n",
       "        });       \n",
       "                    \n",
       "    </script>\n",
       "\n",
       "</div>\n"
      ],
      "text/plain": [
       "<IPython.core.display.HTML object>"
      ]
     },
     "metadata": {},
     "output_type": "display_data"
    }
   ],
   "source": [
    "%%html\n",
    "<div id=\"_usCurrencyWidget\">\n",
    "\n",
    "    <style type=\"text/css\">\n",
    "        #forexCurrencyWidget iframe {\n",
    "            left: 0px;\n",
    "            margin: 0;\n",
    "            padding: 0;\n",
    "            width: 100%;\n",
    "            border: none;\n",
    "            padding-top:5px;\n",
    "        }\n",
    "    </style>\n",
    "\n",
    "\n",
    "    <div id=\"forexCurrencyWidget\">\n",
    "        <iframe id=\"exchangeFrame\" src=\"//quotespeed.morningstar.com/apis/api.jsp?instid=EURTL&amp;module=forex&amp;submodule=forexcrt&amp;width=500&amp;height=300&amp;currencyList=GBP,USD,EUR,JPY,CHF,AUD,CAD&amp;showHead=0&amp;decimal=4\" scrolling=\"no\" style=\"float:left;background-color:#FFF;border-left:none; border-right:none; border-bottom:none; padding-left:0px; margin:0px\" height=\"300px\" frameborder=\"0\"></iframe>\n",
    "    </div>\n",
    "    <script type=\"text/javascript\">\n",
    "       \n",
    "        $(document).ready(function () {\n",
    "            let hostName = window.location.hostname;\n",
    "            let envVal = 'stage';\n",
    "            let quotespeedUrlE = 'markets-uat';\n",
    "            if (hostName && ((hostName.indexOf(\"localhost\") > -1) || (hostName.indexOf(\"eurtqa\") > -1))) {\n",
    "                envVal = 'stage';\n",
    "                quotespeedUrlE = 'markets-uat';\n",
    "            }\n",
    "            else {\n",
    "                envVal = 'production';\n",
    "                quotespeedUrlE = 'quotespeed';\n",
    "            }\n",
    "\n",
    "            let urlExchange = '//' + quotespeedUrlE + '.morningstar.com/apis/api.jsp?' +\n",
    "                'instid=EURTL&module=forex&submodule=forexcrt&width=500&height=300&' +\n",
    "            'currencyList=GBP,USD,EUR,JPY,CHF,AUD,CAD' +\n",
    "                '&showHead=0&decimal=4';\n",
    "\n",
    "            document.getElementById(\"exchangeFrame\").src = urlExchange; \n",
    "\n",
    "        });       \n",
    "                    \n",
    "    </script>\n",
    "\n",
    "</div>"
   ]
  },
  {
   "cell_type": "code",
   "execution_count": null,
   "metadata": {},
   "outputs": [],
   "source": []
  },
  {
   "cell_type": "markdown",
   "metadata": {},
   "source": [
    "# Reading currency exchange data using Tesseract (failed)"
   ]
  },
  {
   "cell_type": "raw",
   "metadata": {},
   "source": [
    "# Finding bottom of currency exchange widget, at 90% on Chrome \n",
    "widget = pyautogui.locateOnScreen('screenshots/bottom_of_matrix.PNG')\n",
    "\n",
    "# Calculate coordinates of screenshot\n",
    "new_left = widget[0] + 55\n",
    "new_top = widget[1] - 260\n",
    "new_width = widget[2] + 10\n",
    "new_height = widget[3] + 220\n",
    "good_coords = [new_left, new_top, new_width, new_height]\n",
    "\n",
    "# Take screenshot\n",
    "image_text = pyautogui.screenshot(region=good_coords)\n",
    "image_text.save(r'screenshots/widget.png')"
   ]
  },
  {
   "cell_type": "markdown",
   "metadata": {},
   "source": [
    "# Alternatives to read iFrame data (failed)"
   ]
  },
  {
   "cell_type": "raw",
   "metadata": {},
   "source": [
    "from selenium.webdriver import Firefox\n",
    "from selenium.webdriver.firefox.options import Options"
   ]
  },
  {
   "cell_type": "raw",
   "metadata": {},
   "source": [
    "opts = Options()\n",
    "opts.headless = True"
   ]
  },
  {
   "cell_type": "raw",
   "metadata": {},
   "source": [
    "website = \"//quotespeed.morningstar.com/apis/api.jsp?instid=EURTL&module=forex&submodule=forexcrt&width=378&height=180&currencyList=GBP,USD,EUR,JPY,CHF,AUD,CAD&showHead=0&decimal=4\"\n",
    "browser = Firefox(options=opts)\n",
    "browser.get(website)\n",
    "results = browser.find_element_by_id('exchangeFrame')\n",
    "browser.close()"
   ]
  },
  {
   "cell_type": "raw",
   "metadata": {},
   "source": [
    "def webPageToText(url):\n",
    "    import urllib.request, urllib.error, urllib.parse\n",
    "    response = urllib.request.urlopen(url)\n",
    "    html = response.read()\n",
    "    text = stripTags(html).lower()\n",
    "    return text"
   ]
  },
  {
   "cell_type": "raw",
   "metadata": {},
   "source": [
    "src=\"//quotespeed.morningstar.com/apis/api.jsp?instid=EURTL&amp;module=forex&amp;submodule=forexcrt&amp;width=500&amp;height=300&amp;currencyList=GBP,USD,EUR,JPY,CHF,AUD,CAD&amp;showHead=0&amp;decimal=4\"\n",
    "webPageToText(src)"
   ]
  },
  {
   "cell_type": "markdown",
   "metadata": {},
   "source": [
    "# Old iterations of optimized code"
   ]
  },
  {
   "cell_type": "raw",
   "metadata": {},
   "source": [
    "# print(c.get_rate(base_cur='HKD',dest_cur='IDR'))\n",
    "\n",
    "# holder = np.split(np.zeros(shape=(len(supported_types_of_currency),len(supported_types_of_currency))), [2], axis=0)\n",
    "# for x, i in enu`merate(supported_types_of_currency):\n",
    "#     for y, j in enumerate(supported_types_of_currency):\n",
    "#         holder[x,y] = x,y\n",
    "\n",
    "# A = np.empty(shape = (len(rates.values()), len(rates.values())))\n",
    "# for counter, item in enumerate(supported_types_of_currency):\n",
    "#     A[counter] = 1\n",
    "#     # This would just fill diagonal\n",
    "#     print(supported_types_of_currency[counter], supported_types_of_currency[counter])\n",
    "\n",
    "# A = np.empty(shape = (len(rates.values()), len(rates.values())))\n",
    "# for counter, item in enumerate(supported_types_of_currency):\n",
    "#     A[counter] = c.get_rate(base_cur=supported_types_of_currency[counter],\n",
    "#                            dest_cur=supported_types_of_currency[-counter])\n",
    "\n",
    "# Generating matrix\n",
    "holder = np.empty(shape=(32,32))\n",
    "\n",
    "# np.interp(supported_types_of_currency, supported_types_of_currency)\n",
    "\n",
    "for counter, item in enumerate(holder):\n",
    "#     print(counter)\n",
    "    for counter_, item_ in enumerate(item):\n",
    "        holder[counter, counter_] = counter + counter_\n",
    "\n",
    "# Pretty print luis matrix\n",
    "with np.printoptions(precision=0, suppress=True):\n",
    "    print(holder)\n",
    "\n",
    "panda = pd.DataFrame(holder)\n",
    "\n",
    "Wall time: 6.65 s\n",
    "\n",
    "MUCH SLOWER THAN ALTERNATIVE, DO NOT USE\n",
    "\n",
    "\n",
    "\n",
    "%%time\n",
    "for counter, item in enumerate(a[0]):\n",
    "#     print(counter)\n",
    "    for counter_, item_ in enumerate(item):\n",
    "        # Choose one for those that are the same\n",
    "        if counter == counter_:\n",
    "            a[0,counter, counter_] = 1\n",
    "        if counter < 3:\n",
    "            a[0,counter, counter_] = c.get_rate(base_cur=supported_types_of_currency[counter],\n",
    "                                                dest_cur=supported_types_of_currency[counter_])\n",
    "#         print(supported_types_of_currency[counter], supported_types_of_currency[counter_])\n",
    "#         if counter == counter_:\n",
    "#             a[0, counter] = 1\n",
    "#         else:\n",
    "#             a[0,counter] = c.get_rate(base_cur=supported_types_of_currency[counter],\n",
    "#                                   dest_cur=supported_types_of_currency[counter_])\n",
    "    "
   ]
  },
  {
   "cell_type": "code",
   "execution_count": null,
   "metadata": {},
   "outputs": [],
   "source": []
  }
 ],
 "metadata": {
  "kernelspec": {
   "display_name": "Currency Exchange Kernel",
   "language": "python",
   "name": "currency_exchange"
  },
  "language_info": {
   "codemirror_mode": {
    "name": "ipython",
    "version": 3
   },
   "file_extension": ".py",
   "mimetype": "text/x-python",
   "name": "python",
   "nbconvert_exporter": "python",
   "pygments_lexer": "ipython3",
   "version": "3.6.10"
  }
 },
 "nbformat": 4,
 "nbformat_minor": 4
}
