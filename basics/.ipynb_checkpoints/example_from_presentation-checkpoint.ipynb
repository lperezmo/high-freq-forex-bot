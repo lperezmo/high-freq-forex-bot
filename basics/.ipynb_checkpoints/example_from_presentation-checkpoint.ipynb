{
 "cells": [
  {
   "cell_type": "code",
   "execution_count": 1,
   "metadata": {},
   "outputs": [],
   "source": [
    "from forex_python.converter import CurrencyRates\n",
    "import numpy as np\n",
    "import pandas as pd\n",
    "import scipy\n",
    "import math\n",
    "import random\n",
    "import copy\n",
    "import gzip, pickle, pickletools"
   ]
  },
  {
   "cell_type": "markdown",
   "metadata": {},
   "source": [
    "# Example from presentation"
   ]
  },
  {
   "cell_type": "code",
   "execution_count": 3,
   "metadata": {},
   "outputs": [
    {
     "name": "stdout",
     "output_type": "stream",
     "text": [
      "[[  1.      1.305   1.155   1.314 146.113   8.624   1.744   1.82 ]\n",
      " [  0.766   1.      0.885   1.007 111.93    6.606   1.336   1.394]\n",
      " [  0.866   1.13    1.      1.137 126.48    7.465   1.51    1.575]\n",
      " [  0.761   0.993   0.879   1.    111.202   6.563   1.327   1.385]\n",
      " [  0.007   0.009   0.008   0.009   1.      0.059   0.012   0.012]\n",
      " [  0.116   0.151   0.134   0.152  16.943   1.      0.202   0.211]\n",
      " [  0.573   0.749   0.662   0.753  83.78    4.945   1.      1.043]\n",
      " [  0.55    0.717   0.635   0.722  80.304   4.74    0.959   1.   ]]\n"
     ]
    }
   ],
   "source": [
    "real_test = np.matrix(((1, 1.305, 1.155, 1.314, 146.113, 8.624, 1.744, 1.82),\n",
    "                        (0.766, 1, 0.885, 1.007, 111.93, 6.606, 1.336, 1.394),\n",
    "                        (0.866, 1.13, 1, 1.137, 126.48, 7.465, 1.51, 1.575),\n",
    "                        (0.761, 0.993, 0.879, 1, 111.202, 6.563, 1.327, 1.385),\n",
    "                        (0.007, 0.009, 0.008, 0.009, 1, 0.059, 0.012, 0.012),\n",
    "                        (0.116, 0.151, 0.134, 0.152, 16.943, 1, 0.202, 0.211),\n",
    "                        (0.573, 0.749, 0.662, 0.753, 83.78, 4.945, 1, 1.043),\n",
    "                        (0.55, 0.717, 0.635, 0.722, 80.304, 4.74, 0.959, 1)))\n",
    "\n",
    "# Pretty matrix print\n",
    "with np.printoptions(precision=3, suppress=True):\n",
    "    print(real_test)"
   ]
  },
  {
   "cell_type": "code",
   "execution_count": 4,
   "metadata": {},
   "outputs": [
    {
     "name": "stdout",
     "output_type": "stream",
     "text": [
      "The given matrix is unbalanced.\n",
      "Arbitrage is a possibility in this matrix.\n"
     ]
    }
   ],
   "source": [
    "# Load with standard name\n",
    "A = np.matrix(((1, 1.305, 1.155, 1.314, 146.113, 8.624, 1.744, 1.82),\n",
    "                        (0.766, 1, 0.885, 1.007, 111.93, 6.606, 1.336, 1.394),\n",
    "                        (0.866, 1.13, 1, 1.137, 126.48, 7.465, 1.51, 1.575),\n",
    "                        (0.761, 0.993, 0.879, 1, 111.202, 6.563, 1.327, 1.385),\n",
    "                        (0.007, 0.009, 0.008, 0.009, 1, 0.059, 0.012, 0.012),\n",
    "                        (0.116, 0.151, 0.134, 0.152, 16.943, 1, 0.202, 0.211),\n",
    "                        (0.573, 0.749, 0.662, 0.753, 83.78, 4.945, 1, 1.043),\n",
    "                        (0.55, 0.717, 0.635, 0.722, 80.304, 4.74, 0.959, 1)))\n",
    "\n",
    "# # Pretty print A matrix\n",
    "# with np.printoptions(precision=3, suppress=True):\n",
    "#     print(A)\n",
    "    \n",
    "# The matrix is balanced if M^2 - nM = 0\n",
    "M = np.multiply(A,A) - A.shape[0] * A\n",
    "\n",
    "# # Pretty print M matrix\n",
    "# with np.printoptions(precision=1, suppress=True):\n",
    "#     print(M)\n",
    "\n",
    "if np.array_equal(M, np.zeros(shape = M.shape)):\n",
    "    print(f\"The given matrix is a balanced matrix.\")\n",
    "elif not np.array_equal(M, np.zeros(shape = M.shape)):\n",
    "    print(f\"The given matrix is unbalanced.\")\n",
    "else:\n",
    "    print(f\"Unknown error encountered.\")\n",
    "\n",
    "# Calculate Luis matrix \n",
    "luis = np.multiply(A, np.transpose(A))\n",
    "if np.array_equal(luis, np.zeros(shape=luis.shape)):\n",
    "    print(f\"There are no opportunities for arbitrage in this matrix.\")\n",
    "else:\n",
    "    print(f\"Arbitrage is a possibility in this matrix.\")\n",
    "\n",
    "# # Pretty print luis matrix\n",
    "# with np.printoptions(precision=3, suppress=True):\n",
    "#     print(luis)"
   ]
  },
  {
   "cell_type": "markdown",
   "metadata": {},
   "source": [
    "# Find the most profitable transactions to conduct"
   ]
  },
  {
   "cell_type": "code",
   "execution_count": 5,
   "metadata": {},
   "outputs": [
    {
     "name": "stdout",
     "output_type": "stream",
     "text": [
      "Max number 0 is 1.022791\n",
      "Max number 1 is 1.01184\n",
      "Max number 2 is 1.0073699999999999\n",
      "Most profitable path is back and forth between GBP and JPY.\n",
      "Most profitable path is back and forth between EUR and JPY.\n",
      "Most profitable path is back and forth between USD and JPY.\n",
      "Saved names of currencies are: [('GBP', 'JPY'), ('EUR', 'JPY'), ('USD', 'JPY')]\n"
     ]
    }
   ],
   "source": [
    "# Ajusting code for this specific example\n",
    "# References\n",
    "presentation_tuple = tuple(['GBP','USD','EUR','CHF','JPY','DKK','CAD','AUD'])\n",
    "presentation_currencies = {'GBP' :1,'USD' :2,'EUR' :3,'CHF' :4,'JPY' :5,'DKK' :6,'CAD' :7, 'AUD':8}\n",
    "\n",
    "###########################################################################\n",
    "# Find the most profitable transaction paths in the \"Luis\" matrix\n",
    "# and then saves the pairs of most profitable transaction paths\n",
    "# in a list of tuples \n",
    "###########################################################################\n",
    "\n",
    "# Find the top three top max values by copying whole luis matrix\n",
    "# and sequentially erasing the top value to find the next top value\n",
    "luis_ = copy.deepcopy(luis)\n",
    "\n",
    "max_values = np.empty(shape=(3,1))\n",
    "max_locations = []\n",
    "for i in range(3):\n",
    "    # Find max and its index on matrix\n",
    "    max_found = np.max(luis_)\n",
    "    locations = np.where(luis_ == max_found)\n",
    "    \n",
    "    # Print maximums found\n",
    "    print(f\"Max number {i} is {max_found}\")\n",
    "    \n",
    "    # Set max locations ot zero to find\n",
    "    # the next maximum\n",
    "    for v in locations:\n",
    "        luis_[v] = 0\n",
    "        \n",
    "    # Collected the values maximum & one index\n",
    "    max_values[i] = max_found\n",
    "    max_locations.append(tuple(x for x in locations))\n",
    "\n",
    "# Print most profitable transaction paths & collect names currencies. \n",
    "max_currency_names = []\n",
    "for i in max_values:\n",
    "    result = np.where(luis == i)\n",
    "#     print(result)\n",
    "    print(f\"Most profitable path is back and forth between \"\n",
    "          f\"{presentation_tuple[result[0][0]]}\"\n",
    "          f\" and {presentation_tuple[result[0][1]]}.\")\n",
    "    tmp_tuple = tuple([presentation_tuple[result[0][0]],\n",
    "                       presentation_tuple[result[0][1]]])\n",
    "    max_currency_names.append(tmp_tuple)\n",
    "\n",
    "print(f\"Saved names of currencies are: {max_currency_names}\")\n",
    "\n",
    "###########################################################################"
   ]
  },
  {
   "cell_type": "markdown",
   "metadata": {},
   "source": [
    "### Simulate a currency exchange with randomly chosen path"
   ]
  },
  {
   "cell_type": "code",
   "execution_count": 6,
   "metadata": {},
   "outputs": [
    {
     "name": "stdout",
     "output_type": "stream",
     "text": [
      "Summary:\n",
      "Initial investment of:                  $100\n",
      "Total number of iterations:             10\n",
      "Percentage of total money lost to fees: 0%\n",
      "Money after trade was concluded:        $69.02820279674255\n",
      "Lost to fees:                           $0\n",
      "Final profit:                           $-30.971797203257452\n"
     ]
    }
   ],
   "source": [
    "#####################################################################################\n",
    "# Simulate currency exchange with random path\n",
    "#####################################################################################\n",
    "\n",
    "# Parameters\n",
    "investment = 100\n",
    "t = 10\n",
    "fees = 1\n",
    "\n",
    "# Money after the exchange using luis path (IMPORTANT NOTE: IT HAS TO BE MINUS 1 \n",
    "# BECAUSE WE ARE DEALING WITH INDICES)\n",
    "one_ = presentation_currencies.get('DKK') - 1\n",
    "two_ = presentation_currencies.get('JPY') - 1\n",
    "three_ = presentation_currencies.get('AUD') - 1\n",
    "\n",
    "# Exchange rates\n",
    "one_to_two = A[one_, two_]\n",
    "two_to_one = A[two_, one_]\n",
    "two_to_three = A[two_, three_]\n",
    "three_to_two = A[three_, two_]\n",
    "\n",
    "# Calculate money after trade and the profit obtained\n",
    "#                [in. conversion] [bounce between cad and eur] [convert back to usd]\n",
    "result = investment * one_to_two * (two_to_three*three_to_two)**t * two_to_one * fees**t\n",
    "profit = result - investment\n",
    "\n",
    "print(\"Summary:\\n\"\n",
    "      f\"Initial investment of:                  ${investment}\\n\"\n",
    "      f\"Total number of iterations:             {t}\\n\"\n",
    "      f\"Percentage of total money lost to fees: {np.round((1-fees)*100)}%\\n\"\n",
    "      f\"Money after trade was concluded:        ${result}\\n\"\n",
    "      f\"Lost to fees:                           ${investment*(1-fees)}\\n\"\n",
    "      f\"Final profit:                           ${profit}\")\n",
    "\n",
    "#####################################################################################"
   ]
  },
  {
   "cell_type": "markdown",
   "metadata": {},
   "source": [
    "### Simulate a currency exchange with \"Luis\" path"
   ]
  },
  {
   "cell_type": "code",
   "execution_count": 7,
   "metadata": {},
   "outputs": [
    {
     "name": "stdout",
     "output_type": "stream",
     "text": [
      "Summary:\n",
      "Initial investment of:                  $100\n",
      "Total number of iterations:             10\n",
      "Percentage of total money lost to fees: 0%\n",
      "Money after trade was concluded:        $125.22996508142167\n",
      "Lost to fees:                           $0\n",
      "Final profit:                           $25.229965081421668\n"
     ]
    }
   ],
   "source": [
    "#####################################################################################\n",
    "# Simulate currency exchange with \"Luis\" path\n",
    "#####################################################################################\n",
    "\n",
    "# Parameters\n",
    "investment = 100\n",
    "t = 10\n",
    "fees = 1\n",
    "\n",
    "# Money after the exchange using luis path (IMPORTANT NOTE: IT HAS TO BE MINUS 1 \n",
    "# BECAUSE WE ARE DEALING WITH INDICES)\n",
    "one_ = presentation_currencies.get('USD') - 1\n",
    "two_ = presentation_currencies.get('GBP') - 1           # These two are the \n",
    "three_ = presentation_currencies.get('JPY') - 1         # most profitable transaction\n",
    "\n",
    "# Exchange rates\n",
    "one_to_two = A[one_, two_]\n",
    "two_to_one = A[two_, one_]\n",
    "two_to_three = A[two_, three_]\n",
    "three_to_two = A[three_, two_]\n",
    "\n",
    "# Calculate money after trade and the profit obtained\n",
    "#                [in. conversion] [bounce between cad and eur] [convert back to usd]\n",
    "result = investment * one_to_two * (two_to_three*three_to_two)**t * two_to_one * fees**t\n",
    "profit = result - investment\n",
    "\n",
    "## VERIFY MOST REPEATED TRANSACTION IS MOST PROFITABLE TRANSACTION\n",
    "assert two_to_three*three_to_two == np.max(luis)\n",
    "\n",
    "\n",
    "print(\"Summary:\\n\"\n",
    "      f\"Initial investment of:                  ${investment}\\n\"\n",
    "      f\"Total number of iterations:             {t}\\n\"\n",
    "      f\"Percentage of total money lost to fees: {np.round((1-fees)*100)}%\\n\"\n",
    "      f\"Money after trade was concluded:        ${result}\\n\"\n",
    "      f\"Lost to fees:                           ${investment*(1-fees)}\\n\"\n",
    "      f\"Final profit:                           ${profit}\")\n",
    "\n",
    "#####################################################################################"
   ]
  },
  {
   "cell_type": "code",
   "execution_count": null,
   "metadata": {},
   "outputs": [],
   "source": []
  }
 ],
 "metadata": {
  "kernelspec": {
   "display_name": "Currency Exchange Kernel",
   "language": "python",
   "name": "currency_exchange"
  },
  "language_info": {
   "codemirror_mode": {
    "name": "ipython",
    "version": 3
   },
   "file_extension": ".py",
   "mimetype": "text/x-python",
   "name": "python",
   "nbconvert_exporter": "python",
   "pygments_lexer": "ipython3",
   "version": "3.6.10"
  }
 },
 "nbformat": 4,
 "nbformat_minor": 4
}
