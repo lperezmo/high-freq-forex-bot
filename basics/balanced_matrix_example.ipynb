{
 "cells": [
  {
   "cell_type": "code",
   "execution_count": 1,
   "metadata": {},
   "outputs": [],
   "source": [
    "import numpy as np\n",
    "import pandas as pd\n",
    "import scipy\n",
    "import math\n",
    "import random\n",
    "import copy"
   ]
  },
  {
   "cell_type": "markdown",
   "metadata": {},
   "source": [
    "# Example of a balanced matrix"
   ]
  },
  {
   "cell_type": "code",
   "execution_count": null,
   "metadata": {},
   "outputs": [],
   "source": [
    "# Inputing balanced matrix as \n",
    "balanced_matrix = np.matrix(((1, 2, 4),(0.5, 1, 2), (0.25, 0.5, 1)))"
   ]
  },
  {
   "cell_type": "code",
   "execution_count": 3,
   "metadata": {},
   "outputs": [
    {
     "name": "stdout",
     "output_type": "stream",
     "text": [
      "The given matrix is a balanced matrix.\n"
     ]
    }
   ],
   "source": [
    "# The matrix is balanced if M^2 - nM = 0\n",
    "M = balanced_matrix**2 - balanced_matrix.shape[0] * balanced_matrix\n",
    "\n",
    "if np.array_equal(M, np.zeros(shape = M.shape)):\n",
    "    print(f\"The given matrix is a balanced matrix.\")"
   ]
  },
  {
   "cell_type": "code",
   "execution_count": 4,
   "metadata": {},
   "outputs": [
    {
     "name": "stdout",
     "output_type": "stream",
     "text": [
      "There are no opportunities for arbitrage in this matrix.\n",
      "[[0. 0. 0.]\n",
      " [0. 0. 0.]\n",
      " [0. 0. 0.]]\n"
     ]
    }
   ],
   "source": [
    "# Calculate Luis matrix \n",
    "luis = M * np.transpose(M)\n",
    "if np.array_equal(luis, np.zeros(shape=luis.shape)):\n",
    "    print(f\"There are no opportunities for arbitrage in this matrix.\")\n",
    "else:\n",
    "    print(f\"Arbitrage is a possibility in this matrix.\")\n",
    "\n",
    "with np.printoptions(precision=0, suppress=True):\n",
    "    print(luis)"
   ]
  },
  {
   "cell_type": "markdown",
   "metadata": {},
   "source": [
    "# Example with randomly generated matrix"
   ]
  },
  {
   "cell_type": "code",
   "execution_count": 5,
   "metadata": {},
   "outputs": [],
   "source": [
    "A = np.random.random_sample(size = (7,7))*2"
   ]
  },
  {
   "cell_type": "code",
   "execution_count": 6,
   "metadata": {},
   "outputs": [
    {
     "name": "stdout",
     "output_type": "stream",
     "text": [
      "The given matrix is unbalanced.\n"
     ]
    }
   ],
   "source": [
    "# The matrix is balanced if M^2 - nM = 0\n",
    "M = A**2 - A.shape[0] * A\n",
    "\n",
    "if np.array_equal(M, np.zeros(shape = M.shape)):\n",
    "    print(f\"The given matrix is a balanced matrix.\")\n",
    "elif not np.array_equal(M, np.zeros(shape = M.shape)):\n",
    "    print(f\"The given matrix is unbalanced.\")\n",
    "else:\n",
    "    print(f\"Unknown error encountered.\")"
   ]
  },
  {
   "cell_type": "code",
   "execution_count": 7,
   "metadata": {},
   "outputs": [
    {
     "name": "stdout",
     "output_type": "stream",
     "text": [
      "Arbitrage is a possibility in this matrix.\n",
      "[[0. 0. 0. 3. 2. 0. 1.]\n",
      " [0. 2. 1. 1. 1. 3. 0.]\n",
      " [0. 1. 1. 0. 0. 1. 1.]\n",
      " [3. 1. 0. 1. 2. 2. 2.]\n",
      " [2. 1. 0. 2. 1. 0. 0.]\n",
      " [0. 3. 1. 2. 0. 0. 2.]\n",
      " [1. 0. 1. 2. 0. 2. 1.]]\n"
     ]
    }
   ],
   "source": [
    "# Calculate Luis matrix \n",
    "luis = A * np.transpose(A)\n",
    "if np.array_equal(luis, np.zeros(shape=luis.shape)):\n",
    "    print(f\"There are no opportunities for arbitrage in this matrix.\")\n",
    "else:\n",
    "    print(f\"Arbitrage is a possibility in this matrix.\")\n",
    "  \n",
    "# Pretty matrix print\n",
    "with np.printoptions(precision=0, suppress=True):\n",
    "    print(luis)"
   ]
  },
  {
   "cell_type": "markdown",
   "metadata": {},
   "source": [
    "### Find the most profitable path "
   ]
  },
  {
   "cell_type": "code",
   "execution_count": 8,
   "metadata": {},
   "outputs": [
    {
     "data": {
      "text/plain": [
       "(array([1, 5], dtype=int64), array([5, 1], dtype=int64))"
      ]
     },
     "execution_count": 8,
     "metadata": {},
     "output_type": "execute_result"
    }
   ],
   "source": [
    "np.where(luis == np.max(luis))"
   ]
  },
  {
   "cell_type": "code",
   "execution_count": null,
   "metadata": {},
   "outputs": [],
   "source": []
  }
 ],
 "metadata": {
  "kernelspec": {
   "display_name": "Currency Exchange Kernel",
   "language": "python",
   "name": "currency_exchange"
  },
  "language_info": {
   "codemirror_mode": {
    "name": "ipython",
    "version": 3
   },
   "file_extension": ".py",
   "mimetype": "text/x-python",
   "name": "python",
   "nbconvert_exporter": "python",
   "pygments_lexer": "ipython3",
   "version": "3.6.10"
  },
  "toc-autonumbering": true
 },
 "nbformat": 4,
 "nbformat_minor": 4
}
